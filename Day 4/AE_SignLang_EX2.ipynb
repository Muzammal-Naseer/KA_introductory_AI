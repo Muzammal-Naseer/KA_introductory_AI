{
  "cells": [
    {
      "cell_type": "code",
      "execution_count": 1,
      "metadata": {
        "id": "BCpQaqwoH2Pk"
      },
      "outputs": [],
      "source": [
        "from IPython.display import clear_output"
      ]
    },
    {
      "cell_type": "code",
      "execution_count": 2,
      "metadata": {
        "id": "HBuuF9MJKjoe"
      },
      "outputs": [],
      "source": [
        "\n",
        "# Download the required libraries (needed when running outside colab where the environment doesn't come pre-loaded with libraries)\n",
        "\n",
        "%pip install torch\n",
        "%pip install torchvision\n",
        "%pip install matplotlib\n",
        "\n",
        "clear_output()"
      ]
    },
    {
      "cell_type": "code",
      "execution_count": 3,
      "metadata": {
        "id": "gtV7omCIKq0K"
      },
      "outputs": [],
      "source": [
        "import torch\n",
        "import torch.nn as nn\n",
        "import torch.nn.functional as F\n",
        "\n",
        "from torchvision.datasets import MNIST\n",
        "from torchvision.transforms.functional import to_tensor, to_pil_image, resize\n",
        "from torchvision import transforms\n",
        "\n",
        "from torch.utils.data import DataLoader\n",
        "from torch.optim import Adam\n",
        "\n",
        "import matplotlib.pyplot as plt"
      ]
    },
    {
      "cell_type": "markdown",
      "metadata": {
        "id": "JBNjc2JpLGIa"
      },
      "source": [
        "# Sign Langauge Problem:\n",
        "\n",
        "## In this notebook, we will use the images for the sign language to compress them and reconstruct them again using Autoencoder.\n",
        "\n",
        "## - This notebook contains a detailed implementaiton of a NN uisng Pytorch.\n",
        "\n",
        "### 1. Data set Details:\n",
        "\n",
        "- The provided data set is ArASL (Arabic Alphabets Sign Language Dataset). It is as its name says, an arabic sighn langauge for Arabic alphabet. It has a total of 54049 images and their corrssponding labels.\n",
        "\n",
        "### 2. Size of data:\n",
        "- Length of train_dataset is 43239,\n",
        "- Length of val_dataset is 10810\n",
        "\n",
        "### 3. Labels representations:\n",
        "- Each sample has a label, which can be one of the 32 classes.\n",
        "It consist of 32 classes for the alphabet.\n",
        "- The classes values are integers from 0 up to 31.\n",
        "\n",
        "\n",
        "### 4. The mapping details:\n",
        "\n",
        "- Each number represents a charcter. You can see the dictionary in the variable \"mapping\".\n",
        "\n",
        "<br/>\n",
        "-- You can see the mapping in the following:\n",
        "\n",
        "0: 'seen', 1: 'zay', 2: 'aleff', 3: 'dal', 4: 'ta', 5: 'yaa', 6: 'fa', 7: 'ya', 8: 'khaa', 9: 'nun', 10: 'ha', 11: 'toot', 12: 'taa', 13: 'ra', 14: 'kaaf', 15: 'jeem', 16: 'laam', 17: 'la', 18: 'dhad', 19: 'dha', 20: 'waw', 21: 'meem', 22: 'al', 23: 'sheen', 24: 'haa', 25: 'thaa', 26: 'saad', 27: 'ghain', 28: 'ain', 29: 'thal', 30: 'gaaf', 31: 'bb'\n",
        "\n",
        "### 5. Refrence:\n",
        "Latif, G., Mohammad, N., Alghazo, J., AlKhalaf, R., & AlKhalaf, R. (2019). ARASL: Arabic Alphabets Sign Language Dataset. *Data in Brief*, 23, 103777. https://doi.org/10.1016/j.dib.2019.103777"
      ]
    },
    {
      "cell_type": "markdown",
      "metadata": {
        "id": "Gw5z1ZSoLlh1"
      },
      "source": [
        "## Downloading the dataset\n",
        "\n",
        "### Run the following cells to download the MNIST dataset."
      ]
    },
    {
      "cell_type": "code",
      "execution_count": 4,
      "metadata": {
        "colab": {
          "base_uri": "https://localhost:8080/"
        },
        "id": "AqQxPwbp7TfV",
        "outputId": "cc76bf5d-1312-4dac-ef12-a7ca83a0ffd2"
      },
      "outputs": [
        {
          "output_type": "stream",
          "name": "stdout",
          "text": [
            "Downloading...\n",
            "From: https://data.mendeley.com/public-files/datasets/y7pckrw6z2/files/1efa0d6b-4d7f-4f58-9584-08f0488279ee/file_downloaded\n",
            "To: /content/file_downloaded\n",
            "100% 66.2M/66.2M [00:03<00:00, 16.8MB/s]\n"
          ]
        }
      ],
      "source": [
        "!gdown https://data.mendeley.com/public-files/datasets/y7pckrw6z2/files/1efa0d6b-4d7f-4f58-9584-08f0488279ee/file_downloaded"
      ]
    },
    {
      "cell_type": "code",
      "execution_count": 5,
      "metadata": {
        "id": "yfnx8Ebf7pTT"
      },
      "outputs": [],
      "source": [
        "import os\n",
        "\n",
        "def delete_folder(folder_path):\n",
        "    try:\n",
        "        # Get the list of files and subdirectories in the folder\n",
        "        for item in os.listdir(folder_path):\n",
        "            item_path = os.path.join(folder_path, item)\n",
        "\n",
        "            # If it's a file, delete it\n",
        "            if os.path.isfile(item_path):\n",
        "                os.remove(item_path)\n",
        "            # If it's a directory, recursively call delete_folder\n",
        "            elif os.path.isdir(item_path):\n",
        "                delete_folder(item_path)\n",
        "\n",
        "        # Remove the empty folder\n",
        "        os.rmdir(folder_path)\n",
        "        print(f\"Folder '{folder_path}' and its contents deleted successfully.\")\n",
        "    except FileNotFoundError:\n",
        "        print(f\"Folder '{folder_path}' not found.\")\n",
        "    except PermissionError:\n",
        "        print(f\"Permission error: Unable to delete folder '{folder_path}'.\")\n",
        "    except Exception as e:\n",
        "        print(f\"An error occurred: {e}\")\n",
        "\n",
        "\n",
        "delete_folder('ArASL_Database_54K_Final')\n",
        "\n",
        "!unzip file_downloaded\n",
        "clear_output()"
      ]
    },
    {
      "cell_type": "markdown",
      "metadata": {
        "id": "qWb17ZPBAWvP"
      },
      "source": [
        "## Just run these two cells. You are not supposed to explore them."
      ]
    },
    {
      "cell_type": "code",
      "execution_count": 6,
      "metadata": {
        "colab": {
          "base_uri": "https://localhost:8080/"
        },
        "id": "6sjyA1C1E5ik",
        "outputId": "11c72743-a260-4a9b-fdef-698527c493dc"
      },
      "outputs": [
        {
          "output_type": "stream",
          "name": "stdout",
          "text": [
            "Folder Mapping:\n",
            "{'la': 0, 'nun': 1, 'kaaf': 2, 'ya': 3, 'toot': 4, 'fa': 5, 'al': 6, 'meem': 7, 'taa': 8, 'yaa': 9, 'saad': 10, 'sheen': 11, 'ha': 12, 'ghain': 13, 'ta': 14, 'thal': 15, 'seen': 16, 'aleff': 17, 'dal': 18, 'bb': 19, 'ra': 20, 'gaaf': 21, 'jeem': 22, 'haa': 23, 'laam': 24, 'dha': 25, 'waw': 26, 'dhad': 27, 'ain': 28, 'zay': 29, 'thaa': 30, 'khaa': 31}\n"
          ]
        }
      ],
      "source": [
        "import os\n",
        "\n",
        "def rename_folders_and_create_mapping(folder_path):\n",
        "    # Get the list of folders in the specified path\n",
        "    folders = [folder for folder in os.listdir(folder_path) if os.path.isdir(os.path.join(folder_path, folder))]\n",
        "\n",
        "    # Create a mapping from original folder names to numbers\n",
        "    folder_mapping = {folder: i for i, folder in enumerate(folders)}\n",
        "\n",
        "    # Rename the folders in-place and store the original names in the mapping\n",
        "    for original_folder, number in folder_mapping.items():\n",
        "        new_folder_name = str(number)\n",
        "        new_folder_path = os.path.join(folder_path, new_folder_name)\n",
        "\n",
        "        # Rename the folder\n",
        "        os.rename(os.path.join(folder_path, original_folder), new_folder_path)\n",
        "\n",
        "    return folder_mapping\n",
        "\n",
        "folder_path = 'ArASL_Database_54K_Final'\n",
        "\n",
        "# Create the folder mapping and rename folders\n",
        "mapping = rename_folders_and_create_mapping(folder_path)\n",
        "\n",
        "# Print the folder mapping\n",
        "print(\"Folder Mapping:\")\n",
        "print(mapping)\n"
      ]
    },
    {
      "cell_type": "code",
      "execution_count": 7,
      "metadata": {
        "id": "Efxefg5j94pO"
      },
      "outputs": [],
      "source": [
        "import torch\n",
        "from torch.utils.data import Dataset, DataLoader\n",
        "from torchvision import transforms\n",
        "from PIL import Image\n",
        "import os\n",
        "\n",
        "class CustomDataset(Dataset):\n",
        "    def __init__(self, root_folder, transform=None, target_size=(28, 28)):\n",
        "        self.root_folder = root_folder\n",
        "        self.transform = transform\n",
        "        self.target_size = target_size\n",
        "\n",
        "        # Get the list of image files\n",
        "        self.image_files = []\n",
        "        self.image_labels = []\n",
        "\n",
        "        for root, dirs, files in os.walk(root_folder):\n",
        "            for file in files:\n",
        "                if file.lower().endswith('.jpg'):\n",
        "                    self.image_files.append(os.path.join(root, file))\n",
        "                    self.image_labels.append(int(os.path.basename(root)))\n",
        "\n",
        "    def __len__(self):\n",
        "        return len(self.image_labels)\n",
        "\n",
        "    def __getitem__(self, idx):\n",
        "        img_path = self.image_files[idx]\n",
        "        label = self.image_labels[idx]\n",
        "\n",
        "        # Convert label to tensor\n",
        "        label = torch.tensor(label)\n",
        "\n",
        "        # Open the image\n",
        "        with Image.open(img_path) as img:\n",
        "            # Convert the image to grayscale\n",
        "            img = img.convert('L')\n",
        "\n",
        "            # Resize the image\n",
        "            img = img.resize(self.target_size)\n",
        "\n",
        "            # Apply additional transformations if specified\n",
        "            if self.transform:\n",
        "                img = self.transform(img)\n",
        "\n",
        "            return (img, label)\n",
        "\n",
        "# Define the root folder and output folder\n",
        "root_folder_path = 'ArASL_Database_54K_Final'\n",
        "\n",
        "\n",
        "# Define transformations (resize to 28x28 and convert to tensor)\n",
        "data_transform = transforms.Compose([\n",
        "    transforms.Resize((48, 48)),\n",
        "    transforms.ToTensor(),\n",
        "])\n",
        "\n",
        "# Create an instance of the custom dataset\n",
        "custom_dataset = CustomDataset(root_folder_path, transform=data_transform)\n",
        "\n",
        "from torch.utils.data import random_split\n",
        "\n",
        "# Define the size of the training and validation sets\n",
        "total_size = len(custom_dataset)\n",
        "train_size = int(0.8 * total_size)  # 80% for training\n",
        "val_size = total_size - train_size  # 20% for validation\n",
        "\n",
        "# Split the dataset\n",
        "train_dataset, val_dataset = random_split(custom_dataset, [train_size, val_size])\n",
        "\n",
        "mapping = {v:k for k,v in mapping.items()}"
      ]
    },
    {
      "cell_type": "markdown",
      "metadata": {
        "id": "ObDvaInfAdBJ"
      },
      "source": [
        "## Exploring the data"
      ]
    },
    {
      "cell_type": "markdown",
      "metadata": {
        "id": "GmA6buxlh9XI"
      },
      "source": [
        "#### Here is the mapping for each class and its encoding. In addition to the train_dataset and val_dataset"
      ]
    },
    {
      "cell_type": "code",
      "execution_count": 8,
      "metadata": {
        "colab": {
          "base_uri": "https://localhost:8080/"
        },
        "id": "60ugrf0DMF2N",
        "outputId": "12b6641f-fb7e-4230-ac73-adaebab8b84a"
      },
      "outputs": [
        {
          "output_type": "stream",
          "name": "stdout",
          "text": [
            "The mapping between the letters and the encoding: \n",
            " {0: 'la', 1: 'nun', 2: 'kaaf', 3: 'ya', 4: 'toot', 5: 'fa', 6: 'al', 7: 'meem', 8: 'taa', 9: 'yaa', 10: 'saad', 11: 'sheen', 12: 'ha', 13: 'ghain', 14: 'ta', 15: 'thal', 16: 'seen', 17: 'aleff', 18: 'dal', 19: 'bb', 20: 'ra', 21: 'gaaf', 22: 'jeem', 23: 'haa', 24: 'laam', 25: 'dha', 26: 'waw', 27: 'dhad', 28: 'ain', 29: 'zay', 30: 'thaa', 31: 'khaa'}\n",
            "Length of train_dataset is 43239\n",
            "Length of val_dataset is 10810\n"
          ]
        }
      ],
      "source": [
        "train_dataset # Contains the training ArASL_Database_54K_Final dataset (80%)\n",
        "\n",
        "val_dataset  # Contains the validating ArASL_Database_54K_Final dataset (20%)\n",
        "\n",
        "\n",
        "print(\"The mapping between the letters and the encoding: \\n\", mapping)\n",
        "print('Length of train_dataset is', len(train_dataset))\n",
        "print('Length of val_dataset is'  , len(val_dataset))"
      ]
    },
    {
      "cell_type": "code",
      "execution_count": 9,
      "metadata": {
        "id": "Oj4XUGKBQmwH"
      },
      "outputs": [],
      "source": [
        "batch_size = 64 # To group each k samples together.\n",
        "\n",
        "# DataLoaders simplify the job of grouping the samples into batches.\n",
        "train_loader = DataLoader(train_dataset, batch_size=batch_size, shuffle=True)\n",
        "val_loader = DataLoader(val_dataset, batch_size=batch_size, shuffle=False)  # no need to shuffle validation data"
      ]
    },
    {
      "cell_type": "markdown",
      "metadata": {
        "id": "4bw5HNZeQ7Gc"
      },
      "source": [
        "## Let's visualize an image and its channels"
      ]
    },
    {
      "cell_type": "code",
      "execution_count": 10,
      "metadata": {
        "colab": {
          "base_uri": "https://localhost:8080/",
          "height": 500
        },
        "id": "kXxCJ5pQQ5jw",
        "outputId": "c00a601b-26b4-4a56-b37e-cb2c688e8eb8"
      },
      "outputs": [
        {
          "output_type": "stream",
          "name": "stdout",
          "text": [
            "The image shape: torch.Size([1, 48, 48])\n",
            "Number of channels in image:  1\n",
            "The image label: 2 kaaf\n"
          ]
        },
        {
          "output_type": "execute_result",
          "data": {
            "text/plain": [
              "<matplotlib.image.AxesImage at 0x799dfe891120>"
            ]
          },
          "metadata": {},
          "execution_count": 10
        },
        {
          "output_type": "display_data",
          "data": {
            "text/plain": [
              "<Figure size 640x480 with 1 Axes>"
            ],
            "image/png": "[encoded data removed]"
          },
          "metadata": {}
        }
      ],
      "source": [
        "random_img_idx = 30 # Write any random index (between 0 and the length of train_dataset)\n",
        "\n",
        "image = train_dataset[random_img_idx][0]  # 0 for image part in (image, label) tuple.\n",
        "label = train_dataset[random_img_idx][1]  # 1 for label part\n",
        "\n",
        "print(\"The image shape:\", image.shape)\n",
        "print('Number of channels in image: ', image.shape[0]) # 1 channel (layer) for black-white images.\n",
        "print(\"The image label:\", label.item(), mapping[label.item()])\n",
        "\n",
        "plt.imshow(image.reshape(48, 48), cmap='gray')"
      ]
    },
    {
      "cell_type": "markdown",
      "metadata": {
        "id": "5wATuG1cPwms"
      },
      "source": [
        "### Create a loop to show 10 different images ranodmly"
      ]
    },
    {
      "cell_type": "code",
      "source": [],
      "metadata": {
        "id": "skFdhVChTOX3"
      },
      "execution_count": null,
      "outputs": []
    },
    {
      "cell_type": "markdown",
      "metadata": {
        "id": "qvysz1ZnSh7f"
      },
      "source": [
        "### Create an Autoencoder to generate images. Try to get some clear results (it is hard to produce clear images in a short time). Visulaize at least 10 reconstructed images and their actual images."
      ]
    },
    {
      "cell_type": "code",
      "source": [],
      "metadata": {
        "id": "sZUQIG45TP6-"
      },
      "execution_count": null,
      "outputs": []
    }
  ],
  "metadata": {
    "colab": {
      "provenance": [],
      "collapsed_sections": [
        "qWb17ZPBAWvP"
      ]
    },
    "kernelspec": {
      "display_name": "Python 3",
      "name": "python3"
    },
    "language_info": {
      "name": "python"
    }
  },
  "nbformat": 4,
  "nbformat_minor": 0
}