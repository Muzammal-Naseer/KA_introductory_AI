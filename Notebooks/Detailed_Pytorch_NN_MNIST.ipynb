{
  "cells": [
    {
      "cell_type": "code",
      "execution_count": null,
      "metadata": {
        "id": "BCpQaqwoH2Pk"
      },
      "outputs": [],
      "source": [
        "from IPython.display import clear_output"
      ]
    },
    {
      "cell_type": "code",
      "execution_count": null,
      "metadata": {
        "id": "HBuuF9MJKjoe"
      },
      "outputs": [],
      "source": [
        "\n",
        "# Download the required libraries (needed when running outside colab where the environment doesn't come pre-loaded with libraries)\n",
        "\n",
        "%pip install torch\n",
        "%pip install torchvision\n",
        "%pip install matplotlib\n",
        "\n",
        "clear_output()"
      ]
    },
    {
      "cell_type": "code",
      "execution_count": null,
      "metadata": {
        "id": "gtV7omCIKq0K"
      },
      "outputs": [],
      "source": [
        "import torch\n",
        "import torch.nn as nn\n",
        "import torch.nn.functional as F\n",
        "\n",
        "from torchvision.datasets import MNIST\n",
        "from torchvision.transforms.functional import to_tensor, to_pil_image, resize\n",
        "from torchvision import transforms\n",
        "\n",
        "from torch.utils.data import DataLoader\n",
        "from torch.optim import Adam\n",
        "\n",
        "import matplotlib.pyplot as plt"
      ]
    },
    {
      "cell_type": "markdown",
      "metadata": {
        "id": "JBNjc2JpLGIa"
      },
      "source": [
        "#Contents:\n",
        "\n",
        "## We will use a dataset called MNIST. MNIST contains 60,000 images for training and 10,000 for testing.\n",
        "\n",
        "## This notebook contains a detailed implementaiton of a NN uisng Pytorch.\n",
        "\n",
        "1. We will explore our data.\n",
        "2. We'll make a classifier for MNIST dataset in pytorch using neural network (NN) architecture\n",
        "\n",
        "\n",
        "You need to know:\n",
        "\n",
        "1. **torch** (for impelementation)\n",
        "2. a little bit of **matplotlib** (for visualization)\n",
        "\n",
        "\n",
        "Good to have knowledge of:\n",
        "\n",
        "1. torch dataset and dataloader"
      ]
    },
    {
      "cell_type": "markdown",
      "metadata": {
        "id": "Gw5z1ZSoLlh1"
      },
      "source": [
        "## Downloading the dataset\n",
        "\n",
        "### Run the following cells to download the MNIST dataset."
      ]
    },
    {
      "cell_type": "code",
      "execution_count": null,
      "metadata": {
        "colab": {
          "base_uri": "https://localhost:8080/"
        },
        "id": "MlJwrK5ZLDeV",
        "outputId": "a2c6bfc0-c177-4346-b38e-37e08c984dd8"
      },
      "outputs": [
        {
          "name": "stdout",
          "output_type": "stream",
          "text": [
            "Downloading http://yann.lecun.com/exdb/mnist/train-images-idx3-ubyte.gz\n",
            "Downloading http://yann.lecun.com/exdb/mnist/train-images-idx3-ubyte.gz to ./datasets/MNIST/raw/train-images-idx3-ubyte.gz\n"
          ]
        },
        {
          "name": "stderr",
          "output_type": "stream",
          "text": [
            "100%|██████████| 9912422/9912422 [00:00<00:00, 101853322.07it/s]\n"
          ]
        },
        {
          "name": "stdout",
          "output_type": "stream",
          "text": [
            "Extracting ./datasets/MNIST/raw/train-images-idx3-ubyte.gz to ./datasets/MNIST/raw\n",
            "\n",
            "Downloading http://yann.lecun.com/exdb/mnist/train-labels-idx1-ubyte.gz\n",
            "Downloading http://yann.lecun.com/exdb/mnist/train-labels-idx1-ubyte.gz to ./datasets/MNIST/raw/train-labels-idx1-ubyte.gz\n"
          ]
        },
        {
          "name": "stderr",
          "output_type": "stream",
          "text": [
            "100%|██████████| 28881/28881 [00:00<00:00, 22633724.56it/s]"
          ]
        },
        {
          "name": "stdout",
          "output_type": "stream",
          "text": [
            "Extracting ./datasets/MNIST/raw/train-labels-idx1-ubyte.gz to ./datasets/MNIST/raw\n",
            "\n",
            "Downloading http://yann.lecun.com/exdb/mnist/t10k-images-idx3-ubyte.gz\n",
            "Downloading http://yann.lecun.com/exdb/mnist/t10k-images-idx3-ubyte.gz to ./datasets/MNIST/raw/t10k-images-idx3-ubyte.gz\n"
          ]
        },
        {
          "name": "stderr",
          "output_type": "stream",
          "text": [
            "\n",
            "100%|██████████| 1648877/1648877 [00:00<00:00, 31499154.65it/s]\n"
          ]
        },
        {
          "name": "stdout",
          "output_type": "stream",
          "text": [
            "Extracting ./datasets/MNIST/raw/t10k-images-idx3-ubyte.gz to ./datasets/MNIST/raw\n",
            "\n",
            "Downloading http://yann.lecun.com/exdb/mnist/t10k-labels-idx1-ubyte.gz\n",
            "Downloading http://yann.lecun.com/exdb/mnist/t10k-labels-idx1-ubyte.gz to ./datasets/MNIST/raw/t10k-labels-idx1-ubyte.gz\n"
          ]
        },
        {
          "name": "stderr",
          "output_type": "stream",
          "text": [
            "100%|██████████| 4542/4542 [00:00<00:00, 6729257.78it/s]\n"
          ]
        },
        {
          "name": "stdout",
          "output_type": "stream",
          "text": [
            "Extracting ./datasets/MNIST/raw/t10k-labels-idx1-ubyte.gz to ./datasets/MNIST/raw\n",
            "\n"
          ]
        }
      ],
      "source": [
        "train_dataset = MNIST(root='./datasets', train=True, download=True, transform=transforms.ToTensor())\n",
        "val_dataset = MNIST(root='./datasets', train=False, download=True, transform=transforms.ToTensor())"
      ]
    },
    {
      "cell_type": "markdown",
      "metadata": {
        "id": "GmA6buxlh9XI"
      },
      "source": [
        "#### Notice the size of the dataset"
      ]
    },
    {
      "cell_type": "code",
      "execution_count": null,
      "metadata": {
        "colab": {
          "base_uri": "https://localhost:8080/"
        },
        "id": "60ugrf0DMF2N",
        "outputId": "6578ddcd-68fd-4710-f0a3-21a127d3217a"
      },
      "outputs": [
        {
          "name": "stdout",
          "output_type": "stream",
          "text": [
            "Length of train_dataset is 60000\n",
            "Length of val_dataset is 10000\n"
          ]
        }
      ],
      "source": [
        "print('Length of train_dataset is', len(train_dataset))\n",
        "print('Length of val_dataset is'  , len(val_dataset))"
      ]
    },
    {
      "cell_type": "code",
      "execution_count": null,
      "metadata": {
        "id": "Oj4XUGKBQmwH"
      },
      "outputs": [],
      "source": [
        "batch_size = 64 # To group each k samples together.\n",
        "\n",
        "# DataLoaders simplify the job of grouping the samples into batches.\n",
        "train_loader = DataLoader(train_dataset, batch_size=batch_size, shuffle=True)\n",
        "val_loader = DataLoader(val_dataset, batch_size=batch_size, shuffle=False)  # no need to shuffle validation data"
      ]
    },
    {
      "cell_type": "markdown",
      "metadata": {
        "id": "4bw5HNZeQ7Gc"
      },
      "source": [
        "## Let's visualize an image and its channels"
      ]
    },
    {
      "cell_type": "code",
      "execution_count": null,
      "metadata": {
        "colab": {
          "base_uri": "https://localhost:8080/",
          "height": 499
        },
        "id": "kXxCJ5pQQ5jw",
        "outputId": "7d24fc83-04b6-4d91-cfc9-77b87bece5b8"
      },
      "outputs": [
        {
          "name": "stdout",
          "output_type": "stream",
          "text": [
            "The image shape: torch.Size([1, 28, 28])\n",
            "Number of channels in image:  1\n",
            "The image label: 5\n"
          ]
        },
        {
          "data": {
            "text/plain": [
              "<matplotlib.image.AxesImage at 0x7e1180db7dc0>"
            ]
          },
          "execution_count": 7,
          "metadata": {},
          "output_type": "execute_result"
        },
        {
          "data": {
            "image/png": "[encoded data removed]",
            "text/plain": [
              "<Figure size 640x480 with 1 Axes>"
            ]
          },
          "metadata": {},
          "output_type": "display_data"
        }
      ],
      "source": [
        "random_img_idx = 0 # Write any random index (between 0 and 59999)\n",
        "\n",
        "image = train_dataset[random_img_idx][0]  # 0 for image part in (image, label) tuple.\n",
        "label = train_dataset[random_img_idx][1]  # 1 for label part\n",
        "\n",
        "print(\"The image shape:\", image.shape)\n",
        "print('Number of channels in image: ', image.shape[0]) # 1 channel (layer) for black-white images.\n",
        "print(\"The image label:\", label)\n",
        "\n",
        "plt.imshow(image.reshape(28, 28), cmap='gray')"
      ]
    },
    {
      "cell_type": "code",
      "execution_count": null,
      "metadata": {
        "id": "qsgP23s4QNib"
      },
      "outputs": [],
      "source": [
        "import torch.nn.functional as F\n",
        "class MyMNISTClassifier(nn.Module):\n",
        "  def __init__(self, input_size):\n",
        "    super(MyMNISTClassifier, self).__init__()\n",
        "\n",
        "    # Here we decided to have 4 layers.\n",
        "\n",
        "    # In this part, we prepare the layers.\n",
        "\n",
        "    # First layer takes the input size (number of pixles 28 * 28 in our case)\n",
        "    # The output of the layer, you can decide the size of it.\n",
        "    self.linear1 = nn.Linear(input_size, 512)\n",
        "\n",
        "    # each layer will recieve the output of the previous layer, so the input should be\n",
        "    # the same size as the output from the previous layer.\n",
        "    # You always decide the size of the output except in the last layer.\n",
        "    self.linear2 = nn.Linear(512, 128)\n",
        "\n",
        "    # The same as the previous one.\n",
        "    self.linear3 = nn.Linear(128, 32)\n",
        "\n",
        "    # The input has only one case.\n",
        "    # You should not choose the ouput of the last layer randomly.\n",
        "    # The size should be the number of labels in a classification problem. (10 labels in our case)\n",
        "    self.linear4 = nn.Linear(32, 10)\n",
        "\n",
        "  def forward(self, x):\n",
        "\n",
        "    # In this part we connect the layer togther.\n",
        "\n",
        "    # to start conncet the input with the first layer and then apply an activation function.\n",
        "    x = torch.relu(self.linear1(x))\n",
        "\n",
        "    # Then conncet the first layer with the second layer and then apply an activation function.\n",
        "    x = torch.relu(self.linear2(x))\n",
        "\n",
        "    # Then conncet the second layer with the third layer and then apply an activation function.\n",
        "    x = torch.relu(self.linear3(x))\n",
        "\n",
        "    # Finally, connect the third layer with the last one, and then apply sigmoid or softmax function\n",
        "    # for a classificatoin problem.\n",
        "    # If we are using nn.CrossEntropyLoss, we do not need to write softmax because nn.CrossEntropyLoss function computes it in one step.\n",
        "    x = self.linear4(x)\n",
        "    return x"
      ]
    },
    {
      "cell_type": "code",
      "execution_count": null,
      "metadata": {
        "id": "Vg_ZO5lNZ5B-"
      },
      "outputs": [],
      "source": [
        "device = 'cuda' if torch.cuda.is_available() else 'cpu'  # checks if machine supports cuda and if it does, we use that, otherwise cpu\n",
        "input_size = 28 * 28\n",
        "model = MyMNISTClassifier(input_size).to(device)"
      ]
    },
    {
      "cell_type": "code",
      "execution_count": null,
      "metadata": {
        "colab": {
          "base_uri": "https://localhost:8080/"
        },
        "id": "E5wBeaz7Zdar",
        "outputId": "75c85754-b6ea-435d-cc70-2a873a2a1919"
      },
      "outputs": [
        {
          "name": "stdout",
          "output_type": "stream",
          "text": [
            "Using device cuda\n"
          ]
        }
      ],
      "source": [
        "num_epochs = 10 # This represents how many times you want to train the model over all the data (number of iterations).\n",
        "lr = 1e-3 # This is the learning rate.\n",
        "\n",
        "train_losses = []\n",
        "val_losses = []\n",
        "\n",
        "optimizer = Adam(model.parameters(), lr=lr) # Adam is an optimizer (i.e. GD, SGD)\n",
        "criterion = nn.CrossEntropyLoss()  # multi-class loss.\n",
        "\n",
        "model.to(device)  # we need to send all input tensors as well as our model to this device. by default they are on cpu\n",
        "\n",
        "print(f'Using device {device}')"
      ]
    },
    {
      "cell_type": "code",
      "execution_count": null,
      "metadata": {
        "colab": {
          "base_uri": "https://localhost:8080/",
          "height": 1000
        },
        "id": "mVZ6QIbIZb0A",
        "outputId": "a280d10c-5fa8-4049-e111-f81d47c1444f"
      },
      "outputs": [],
      "source": [
        "%%time\n",
        "for epoch_no in range(num_epochs):\n",
        "\n",
        "  model.train()  # convert to train model. This turns out train-specific layers in the model (if you dont know about them, an example of them is dropout. more on this later)\n",
        "\n",
        "  epoch_weighted_loss = 0\n",
        "\n",
        "  for _ in train_loader:\n",
        "\n",
        "    # We need to flatten the input because it is a 2D array (image) not a linear.\n",
        "    batch_X = batch_X.view(-1, 28 * 28)\n",
        "\n",
        "    # Move everything to the device.\n",
        "    batch_X = batch_X.to(device)\n",
        "    batch_y = batch_y.to(device)\n",
        "\n",
        "    # predicite over X.\n",
        "    batch_y_probs = model(batch_X)  # outputs [N, 10] where each [:, 10] is probabilities for class (0-9)\n",
        "\n",
        "    # Compute the loss.\n",
        "    loss = criterion(batch_y_probs, batch_y)\n",
        "\n",
        "    # Reset the gradient.\n",
        "    optimizer.zero_grad()\n",
        "\n",
        "    # Compute the gradient.\n",
        "    loss.backward()\n",
        "\n",
        "    # Update the parameters.\n",
        "    optimizer.step()\n",
        "\n",
        "    # Store the loss. We just multiplied by the number of samples in the batch to use the weighted loss.\n",
        "    epoch_weighted_loss += len(batch_y) * loss.item()\n",
        "\n",
        "  epoch_loss = epoch_weighted_loss/len(train_loader.dataset)\n",
        "\n",
        "  train_losses.append(epoch_loss)\n",
        "\n",
        "\n",
        "  # validation time\n",
        "\n",
        "  model.eval()  # take model to evaluation mode. turn off train-only layers\n",
        "  correctly_labelled = 0 # To count the accuracy.\n",
        "\n",
        "  with torch.no_grad(): # To stop calculating the gradient since we do not need it here.\n",
        "\n",
        "    val_epoch_weighted_loss = 0\n",
        "\n",
        "    for val_batch_X, val_batch_y in val_loader:\n",
        "\n",
        "        val_batch_X = val_batch_X.view(-1, 28 * 28)\n",
        "\n",
        "        val_batch_X = val_batch_X.to(device)\n",
        "        val_batch_y = val_batch_y.to(device)\n",
        "\n",
        "        # Predict on val_X\n",
        "        val_batch_y_probs = model(val_batch_X)\n",
        "\n",
        "        loss = criterion(val_batch_y_probs, val_batch_y)\n",
        "\n",
        "        val_epoch_weighted_loss += len(val_batch_y) * loss.item()\n",
        "\n",
        "        # convert probailities to labels by picking the label (index) with the highest prob.\n",
        "        val_batch_y_pred = val_batch_y_probs.argmax(dim=1)\n",
        "\n",
        "        correctly_labelled += (val_batch_y_pred == val_batch_y).sum().item()  # item converts tensor to float/int/list\n",
        "\n",
        "  val_epoch_loss = val_epoch_weighted_loss/len(val_loader.dataset)\n",
        "  val_losses.append(val_epoch_loss)\n",
        "\n",
        "  print(f'Epoch: {epoch_no}, train_loss={epoch_loss}, val_loss={val_epoch_loss}. labelled {correctly_labelled}/{len(val_loader.dataset)} correctly ({correctly_labelled/len(val_loader.dataset)*100}% accuracy)')\n",
        "\n",
        "print(f'Training complete on device {device}.')"
      ]
    },
    {
      "cell_type": "code",
      "execution_count": null,
      "metadata": {
        "colab": {
          "base_uri": "https://localhost:8080/",
          "height": 449
        },
        "id": "2cMN5vKga0Fk",
        "outputId": "15b6ec82-a93e-4b53-fdb2-457072548e82"
      },
      "outputs": [
        {
          "data": {
            "image/png": "[encoded data removed]",
            "text/plain": [
              "<Figure size 640x480 with 1 Axes>"
            ]
          },
          "metadata": {},
          "output_type": "display_data"
        }
      ],
      "source": [
        "plt.plot(train_losses, label='Train Loss')\n",
        "plt.plot(val_losses  , label='Val Loss')\n",
        "\n",
        "plt.ylabel('Loss (CCE)')\n",
        "plt.xlabel('Epoch')\n",
        "\n",
        "plt.legend()\n",
        "plt.show()"
      ]
    },
    {
      "cell_type": "markdown",
      "metadata": {
        "id": "6WSw_onTwF2d"
      },
      "source": [
        "## Play with the model to get a better genralized model."
      ]
    },
    {
      "cell_type": "code",
      "execution_count": null,
      "metadata": {
        "id": "3LlxO_WOeLRv"
      },
      "outputs": [],
      "source": []
    }
  ],
  "metadata": {
    "accelerator": "GPU",
    "colab": {
      "gpuType": "T4",
      "provenance": []
    },
    "kernelspec": {
      "display_name": "Python 3",
      "name": "python3"
    },
    "language_info": {
      "name": "python"
    }
  },
  "nbformat": 4,
  "nbformat_minor": 0
}
