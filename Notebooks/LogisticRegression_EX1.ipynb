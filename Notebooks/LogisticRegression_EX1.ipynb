{
  "nbformat": 4,
  "nbformat_minor": 0,
  "metadata": {
    "colab": {
      "provenance": []
    },
    "kernelspec": {
      "name": "python3",
      "display_name": "Python 3"
    },
    "language_info": {
      "name": "python"
    },
    "gpuClass": "standard"
  },
  "cells": [
    {
      "cell_type": "markdown",
      "source": [
        "# Task: Predict if the point is blue or red\n",
        "\n",
        "Expectation: A working solution where the learned class label using Logistic Regression is similar (for most possible points) to the training class label. Also show the decision boundary."
      ],
      "metadata": {
        "id": "4dH5rYKx1Ylt"
      }
    },
    {
      "cell_type": "code",
      "execution_count": null,
      "metadata": {
        "id": "QfFeTo_P-mTF"
      },
      "outputs": [],
      "source": [
        "import numpy as np\n",
        "import matplotlib.pyplot as plt\n",
        "\n",
        "%matplotlib inline"
      ]
    },
    {
      "cell_type": "code",
      "source": [
        "def plotClass(X,y,p):\n",
        "    for i in range(y.shape[1]):\n",
        "        if y[0,i]==0:\n",
        "            plt.plot(X[0,i],X[1,i],'r'+p)\n",
        "        else:\n",
        "            plt.plot(X[0,i],X[1,i],'b'+p)\n",
        "\n"
      ],
      "metadata": {
        "id": "njYxETX4-qTk"
      },
      "execution_count": null,
      "outputs": []
    },
    {
      "cell_type": "markdown",
      "source": [
        "## This is a synthetic data (x, y) points"
      ],
      "metadata": {
        "id": "XvNkJLuY1_a3"
      }
    },
    {
      "cell_type": "code",
      "source": [
        "num_data=100 # data points per class\n",
        "\n",
        "np.random.seed(seed=42)\n",
        "\n",
        "x1=np.random.randn(2,num_data)+5\n",
        "x0=np.random.randn(2,num_data)\n",
        "\n",
        "y1=np.ones((1,num_data))\n",
        "y0=np.zeros((1,num_data))\n",
        "\n",
        "X=np.concatenate((x1,x0),axis=1)\n",
        "y=np.concatenate((y1,y0), axis=1)\n",
        "plotClass(X,y,'o')\n",
        "X = X.T\n",
        "y = y.T\n",
        "print(X.shape)\n",
        "print(y.shape)\n",
        "\n"
      ],
      "metadata": {
        "colab": {
          "base_uri": "https://localhost:8080/",
          "height": 465
        },
        "id": "GKX3U7L0-rZl",
        "outputId": "b4007fb7-c3ed-4123-e800-e3adba08896a"
      },
      "execution_count": null,
      "outputs": [
        {
          "output_type": "stream",
          "name": "stdout",
          "text": [
            "(200, 2)\n",
            "(200, 1)\n"
          ]
        },
        {
          "output_type": "display_data",
          "data": {
            "text/plain": [
              "<Figure size 640x480 with 1 Axes>"
            ],
            "image/png": "[encoded data removed]"
          },
          "metadata": {}
        }
      ]
    },
    {
      "cell_type": "markdown",
      "source": [
        "## Add the bias term to X"
      ],
      "metadata": {
        "id": "dXk76BTT3ws6"
      }
    },
    {
      "cell_type": "code",
      "source": [],
      "metadata": {
        "id": "fyAw6DEwCyEl"
      },
      "execution_count": null,
      "outputs": []
    },
    {
      "cell_type": "markdown",
      "source": [
        "## Define the sigmoid function"
      ],
      "metadata": {
        "id": "i4LjAgBu4gz_"
      }
    },
    {
      "cell_type": "code",
      "source": [],
      "metadata": {
        "id": "t25nojbEC8zD"
      },
      "execution_count": null,
      "outputs": []
    },
    {
      "cell_type": "markdown",
      "source": [
        "## Define the cross entropy loss function"
      ],
      "metadata": {
        "id": "XxFttcAQ4leG"
      }
    },
    {
      "cell_type": "code",
      "source": [],
      "metadata": {
        "id": "A0YG2mfAC-Gb"
      },
      "execution_count": null,
      "outputs": []
    },
    {
      "cell_type": "markdown",
      "source": [
        "## Defined the loop that contains the following:\n",
        "- Initialize the learning rate\n",
        "- Initialize the weights randomly\n",
        "- Do the forward pass which computs yhat(predictions)\n",
        "- Save the losses as you train the model\n",
        "- Do the backward pass which updates the weights of the model"
      ],
      "metadata": {
        "id": "w12t3aVb5Ot6"
      }
    },
    {
      "cell_type": "code",
      "source": [],
      "metadata": {
        "id": "42o0vCsvDBNA"
      },
      "execution_count": null,
      "outputs": []
    },
    {
      "cell_type": "markdown",
      "source": [
        "## plot the losses that you have saved"
      ],
      "metadata": {
        "id": "wYjMoKVx5ZzI"
      }
    },
    {
      "cell_type": "code",
      "source": [],
      "metadata": {
        "id": "L48ovSXKDC25"
      },
      "execution_count": null,
      "outputs": []
    }
  ]
}