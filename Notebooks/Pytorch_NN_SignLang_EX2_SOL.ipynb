{
  "cells": [
    {
      "cell_type": "code",
      "execution_count": null,
      "metadata": {
        "id": "BCpQaqwoH2Pk"
      },
      "outputs": [],
      "source": [
        "from IPython.display import clear_output"
      ]
    },
    {
      "cell_type": "code",
      "execution_count": null,
      "metadata": {
        "id": "HBuuF9MJKjoe"
      },
      "outputs": [],
      "source": [
        "\n",
        "# Download the required libraries (needed when running outside colab where the environment doesn't come pre-loaded with libraries)\n",
        "\n",
        "%pip install torch\n",
        "%pip install torchvision\n",
        "%pip install matplotlib\n",
        "\n",
        "clear_output()"
      ]
    },
    {
      "cell_type": "code",
      "execution_count": null,
      "metadata": {
        "id": "gtV7omCIKq0K"
      },
      "outputs": [],
      "source": [
        "import torch\n",
        "import torch.nn as nn\n",
        "import torch.nn.functional as F\n",
        "\n",
        "from torchvision.datasets import MNIST\n",
        "from torchvision.transforms.functional import to_tensor, to_pil_image, resize\n",
        "from torchvision import transforms\n",
        "\n",
        "from torch.utils.data import DataLoader\n",
        "from torch.optim import Adam\n",
        "\n",
        "import matplotlib.pyplot as plt"
      ]
    },
    {
      "cell_type": "markdown",
      "metadata": {
        "id": "JBNjc2JpLGIa"
      },
      "source": [
        "# Sign Langauge Problem:\n",
        "\n",
        "## Intution: The AI is so powrful and important because of its various applications on most if not all the different fields. As a result, we want to help in solving the issue of not understanding sign languages.\n",
        "\n",
        "## - This notebook contains a detailed implementaiton of a NN uisng Pytorch.\n",
        "\n",
        "### 1. Data set Details:\n",
        "\n",
        "- The provided data set is ArASL (Arabic Alphabets Sign Language Dataset). It is as its name says, an arabic sighn langauge for Arabic alphabet. It has a total of 54049 images and their corrssponding labels.\n",
        "\n",
        "### 2. Size of data:\n",
        "- Length of train_dataset is 43239,\n",
        "- Length of val_dataset is 10810\n",
        "\n",
        "### 3. Labels representations:\n",
        "- Each sample has a label, which can be one of the 32 classes.\n",
        "It consist of 32 classes for the alphabet.\n",
        "- The classes values are integers from 0 up to 31.\n",
        "\n",
        "\n",
        "### 4. The mapping details:\n",
        "\n",
        "- Each number represents a charcter. You can see the dictionary in the variable \"mapping\".\n",
        "\n",
        "<br/>\n",
        "-- You can see the mapping in the following:\n",
        "\n",
        "0: 'seen', 1: 'zay', 2: 'aleff', 3: 'dal', 4: 'ta', 5: 'yaa', 6: 'fa', 7: 'ya', 8: 'khaa', 9: 'nun', 10: 'ha', 11: 'toot', 12: 'taa', 13: 'ra', 14: 'kaaf', 15: 'jeem', 16: 'laam', 17: 'la', 18: 'dhad', 19: 'dha', 20: 'waw', 21: 'meem', 22: 'al', 23: 'sheen', 24: 'haa', 25: 'thaa', 26: 'saad', 27: 'ghain', 28: 'ain', 29: 'thal', 30: 'gaaf', 31: 'bb'\n",
        "\n",
        "### 5. Refrence:\n",
        "Latif, G., Mohammad, N., Alghazo, J., AlKhalaf, R., & AlKhalaf, R. (2019). ARASL: Arabic Alphabets Sign Language Dataset. *Data in Brief*, 23, 103777. https://doi.org/10.1016/j.dib.2019.103777"
      ]
    },
    {
      "cell_type": "markdown",
      "metadata": {
        "id": "Gw5z1ZSoLlh1"
      },
      "source": [
        "## Downloading the dataset\n",
        "\n",
        "### Run the following cells to download the MNIST dataset."
      ]
    },
    {
      "cell_type": "code",
      "execution_count": null,
      "metadata": {
        "colab": {
          "base_uri": "https://localhost:8080/"
        },
        "id": "AqQxPwbp7TfV",
        "outputId": "694b6fca-3535-4c61-e6b4-9e8f633d9c0d"
      },
      "outputs": [
        {
          "name": "stdout",
          "output_type": "stream",
          "text": [
            "Downloading...\n",
            "From: https://data.mendeley.com/public-files/datasets/y7pckrw6z2/files/1efa0d6b-4d7f-4f58-9584-08f0488279ee/file_downloaded\n",
            "To: /content/file_downloaded\n",
            "100% 66.2M/66.2M [00:02<00:00, 22.9MB/s]\n"
          ]
        }
      ],
      "source": [
        "!gdown https://data.mendeley.com/public-files/datasets/y7pckrw6z2/files/1efa0d6b-4d7f-4f58-9584-08f0488279ee/file_downloaded"
      ]
    },
    {
      "cell_type": "code",
      "execution_count": null,
      "metadata": {
        "id": "yfnx8Ebf7pTT"
      },
      "outputs": [],
      "source": [
        "!unzip file_downloaded\n",
        "clear_output()"
      ]
    },
    {
      "cell_type": "markdown",
      "metadata": {
        "id": "qWb17ZPBAWvP"
      },
      "source": [
        "## Just run these two cells. You are not supposed to explore them."
      ]
    },
    {
      "cell_type": "code",
      "execution_count": null,
      "metadata": {
        "colab": {
          "base_uri": "https://localhost:8080/"
        },
        "id": "6sjyA1C1E5ik",
        "outputId": "89da082c-6ee5-454c-defe-82e991d9837b"
      },
      "outputs": [
        {
          "name": "stdout",
          "output_type": "stream",
          "text": [
            "Folder Mapping:\n",
            "{'seen': 0, 'zay': 1, 'aleff': 2, 'dal': 3, 'ta': 4, 'yaa': 5, 'fa': 6, 'ya': 7, 'khaa': 8, 'nun': 9, 'ha': 10, 'toot': 11, 'taa': 12, 'ra': 13, 'kaaf': 14, 'jeem': 15, 'laam': 16, 'la': 17, 'dhad': 18, 'dha': 19, 'waw': 20, 'meem': 21, 'al': 22, 'sheen': 23, 'haa': 24, 'thaa': 25, 'saad': 26, 'ghain': 27, 'ain': 28, 'thal': 29, 'gaaf': 30, 'bb': 31}\n"
          ]
        }
      ],
      "source": [
        "import os\n",
        "\n",
        "def rename_folders_and_create_mapping(folder_path):\n",
        "    # Get the list of folders in the specified path\n",
        "    folders = [folder for folder in os.listdir(folder_path) if os.path.isdir(os.path.join(folder_path, folder))]\n",
        "\n",
        "    # Create a mapping from original folder names to numbers\n",
        "    folder_mapping = {folder: i for i, folder in enumerate(folders)}\n",
        "\n",
        "    # Rename the folders in-place and store the original names in the mapping\n",
        "    for original_folder, number in folder_mapping.items():\n",
        "        new_folder_name = str(number)\n",
        "        new_folder_path = os.path.join(folder_path, new_folder_name)\n",
        "\n",
        "        # Rename the folder\n",
        "        os.rename(os.path.join(folder_path, original_folder), new_folder_path)\n",
        "\n",
        "    return folder_mapping\n",
        "\n",
        "folder_path = 'ArASL_Database_54K_Final'\n",
        "\n",
        "# Create the folder mapping and rename folders\n",
        "mapping = rename_folders_and_create_mapping(folder_path)\n",
        "\n",
        "# Print the folder mapping\n",
        "print(\"Folder Mapping:\")\n",
        "print(mapping)\n"
      ]
    },
    {
      "cell_type": "code",
      "execution_count": null,
      "metadata": {
        "id": "Efxefg5j94pO"
      },
      "outputs": [],
      "source": [
        "import torch\n",
        "from torch.utils.data import Dataset, DataLoader\n",
        "from torchvision import transforms\n",
        "from PIL import Image\n",
        "import os\n",
        "\n",
        "class CustomDataset(Dataset):\n",
        "    def __init__(self, root_folder, transform=None, target_size=(28, 28)):\n",
        "        self.root_folder = root_folder\n",
        "        self.transform = transform\n",
        "        self.target_size = target_size\n",
        "\n",
        "        # Get the list of image files\n",
        "        self.image_files = []\n",
        "        self.image_labels = []\n",
        "\n",
        "        for root, dirs, files in os.walk(root_folder):\n",
        "            for file in files:\n",
        "                if file.lower().endswith('.jpg'):\n",
        "                    self.image_files.append(os.path.join(root, file))\n",
        "                    self.image_labels.append(int(os.path.basename(root)))\n",
        "\n",
        "    def __len__(self):\n",
        "        return len(self.image_labels)\n",
        "\n",
        "    def __getitem__(self, idx):\n",
        "        img_path = self.image_files[idx]\n",
        "        label = self.image_labels[idx]\n",
        "\n",
        "        # Convert label to tensor\n",
        "        label = torch.tensor(label)\n",
        "\n",
        "        # Open the image\n",
        "        with Image.open(img_path) as img:\n",
        "            # Convert the image to grayscale\n",
        "            img = img.convert('L')\n",
        "\n",
        "            # Resize the image\n",
        "            img = img.resize(self.target_size)\n",
        "\n",
        "            # Apply additional transformations if specified\n",
        "            if self.transform:\n",
        "                img = self.transform(img)\n",
        "\n",
        "            return (img, label)\n",
        "\n",
        "# Define the root folder and output folder\n",
        "root_folder_path = 'ArASL_Database_54K_Final'\n",
        "\n",
        "\n",
        "# Define transformations (resize to 28x28 and convert to tensor)\n",
        "data_transform = transforms.Compose([\n",
        "    transforms.Resize((48, 48)),\n",
        "    transforms.ToTensor(),\n",
        "])\n",
        "\n",
        "# Create an instance of the custom dataset\n",
        "custom_dataset = CustomDataset(root_folder_path, transform=data_transform)\n",
        "\n",
        "from torch.utils.data import random_split\n",
        "\n",
        "# Define the size of the training and validation sets\n",
        "total_size = len(custom_dataset)\n",
        "train_size = int(0.8 * total_size)  # 80% for training\n",
        "val_size = total_size - train_size  # 20% for validation\n",
        "\n",
        "# Split the dataset\n",
        "train_dataset, val_dataset = random_split(custom_dataset, [train_size, val_size])\n",
        "\n",
        "mapping = {v:k for k,v in mapping.items()}"
      ]
    },
    {
      "cell_type": "markdown",
      "metadata": {
        "id": "ObDvaInfAdBJ"
      },
      "source": [
        "## Exploring the data"
      ]
    },
    {
      "cell_type": "markdown",
      "metadata": {
        "id": "GmA6buxlh9XI"
      },
      "source": [
        "#### Here is the mapping for each class and its encoding. In addition to the train_dataset and val_dataset"
      ]
    },
    {
      "cell_type": "code",
      "execution_count": null,
      "metadata": {
        "colab": {
          "base_uri": "https://localhost:8080/"
        },
        "id": "60ugrf0DMF2N",
        "outputId": "cb0dfb43-a699-4fd5-d50e-d71d686ffd53"
      },
      "outputs": [
        {
          "name": "stdout",
          "output_type": "stream",
          "text": [
            "The mapping between the letters and the encoding: \n",
            " {0: 'seen', 1: 'zay', 2: 'aleff', 3: 'dal', 4: 'ta', 5: 'yaa', 6: 'fa', 7: 'ya', 8: 'khaa', 9: 'nun', 10: 'ha', 11: 'toot', 12: 'taa', 13: 'ra', 14: 'kaaf', 15: 'jeem', 16: 'laam', 17: 'la', 18: 'dhad', 19: 'dha', 20: 'waw', 21: 'meem', 22: 'al', 23: 'sheen', 24: 'haa', 25: 'thaa', 26: 'saad', 27: 'ghain', 28: 'ain', 29: 'thal', 30: 'gaaf', 31: 'bb'}\n",
            "Length of train_dataset is 43239\n",
            "Length of val_dataset is 10810\n"
          ]
        }
      ],
      "source": [
        "train_dataset # Contains the training ArASL_Database_54K_Final dataset (80%)\n",
        "\n",
        "val_dataset  # Contains the validating ArASL_Database_54K_Final dataset (20%)\n",
        "\n",
        "\n",
        "print(\"The mapping between the letters and the encoding: \\n\", mapping)\n",
        "print('Length of train_dataset is', len(train_dataset))\n",
        "print('Length of val_dataset is'  , len(val_dataset))"
      ]
    },
    {
      "cell_type": "code",
      "execution_count": null,
      "metadata": {
        "id": "Oj4XUGKBQmwH"
      },
      "outputs": [],
      "source": [
        "batch_size = 64 # To group each k samples together.\n",
        "\n",
        "# DataLoaders simplify the job of grouping the samples into batches.\n",
        "train_loader = DataLoader(train_dataset, batch_size=batch_size, shuffle=True)\n",
        "val_loader = DataLoader(val_dataset, batch_size=batch_size, shuffle=False)  # no need to shuffle validation data"
      ]
    },
    {
      "cell_type": "markdown",
      "metadata": {
        "id": "4bw5HNZeQ7Gc"
      },
      "source": [
        "## Let's visualize an image and its channels"
      ]
    },
    {
      "cell_type": "code",
      "execution_count": null,
      "metadata": {
        "colab": {
          "base_uri": "https://localhost:8080/",
          "height": 500
        },
        "id": "kXxCJ5pQQ5jw",
        "outputId": "22013e4b-e128-4f32-fe6c-366ed6bc4d53"
      },
      "outputs": [
        {
          "name": "stdout",
          "output_type": "stream",
          "text": [
            "The image shape: torch.Size([1, 48, 48])\n",
            "Number of channels in image:  1\n",
            "The image label: 9 nun\n"
          ]
        },
        {
          "data": {
            "text/plain": [
              "<matplotlib.image.AxesImage at 0x788251571150>"
            ]
          },
          "execution_count": 28,
          "metadata": {},
          "output_type": "execute_result"
        },
        {
          "data": {
            "image/png": "[encoded data removed]",
            "text/plain": [
              "<Figure size 640x480 with 1 Axes>"
            ]
          },
          "metadata": {},
          "output_type": "display_data"
        }
      ],
      "source": [
        "random_img_idx = 30 # Write any random index (between 0 and 59999)\n",
        "\n",
        "image = train_dataset[random_img_idx][0]  # 0 for image part in (image, label) tuple.\n",
        "label = train_dataset[random_img_idx][1]  # 1 for label part\n",
        "\n",
        "print(\"The image shape:\", image.shape)\n",
        "print('Number of channels in image: ', image.shape[0]) # 1 channel (layer) for black-white images.\n",
        "print(\"The image label:\", label.item(), mapping[label.item()])\n",
        "\n",
        "plt.imshow(image.reshape(48, 48), cmap='gray')"
      ]
    },
    {
      "cell_type": "markdown",
      "metadata": {
        "id": "5wATuG1cPwms"
      },
      "source": [
        "### Create a loop to show 10 different images ranodmly"
      ]
    },
    {
      "cell_type": "code",
      "execution_count": null,
      "metadata": {
        "colab": {
          "base_uri": "https://localhost:8080/",
          "height": 723
        },
        "id": "SIHE3pWlPvvK",
        "outputId": "e38d32f8-adfa-4996-ee50-23e7bce93d41"
      },
      "outputs": [
        {
          "data": {
            "image/png": "[encoded data removed]",
            "text/plain": [
              "<Figure size 900x900 with 10 Axes>"
            ]
          },
          "metadata": {},
          "output_type": "display_data"
        }
      ],
      "source": [
        "import random\n",
        "\n",
        "# create figure\n",
        "fig = plt.figure(figsize=(9, 9))\n",
        "\n",
        "for i in range(10):\n",
        "    random_img_idx = random.randint(0, 43238) # Write any random index (between 0 and 43238)\n",
        "\n",
        "    image = train_dataset[random_img_idx][0]  # 0 for image part in (image, label) tuple.\n",
        "    label = train_dataset[random_img_idx][1]  # 1 for label part\n",
        "\n",
        "    # Adds a subplot at the 2nd position\n",
        "    fig.add_subplot(3, 4, i+1)\n",
        "    plt.title(mapping[label.item()])\n",
        "    plt.imshow(image.reshape(48, 48), cmap='gray')"
      ]
    },
    {
      "cell_type": "markdown",
      "metadata": {
        "id": "qvysz1ZnSh7f"
      },
      "source": [
        "### Create a NN uisng Pytorch. Play with the layers to get the best model on the validation data."
      ]
    },
    {
      "cell_type": "code",
      "execution_count": null,
      "metadata": {
        "id": "qsgP23s4QNib"
      },
      "outputs": [],
      "source": [
        "import torch.nn.functional as F\n",
        "class SignLangModel(nn.Module):\n",
        "  def __init__(self, input_size):\n",
        "    super(SignLangModel, self).__init__()\n",
        "\n",
        "\n",
        "    self.linear1 = nn.Linear(input_size, 1024)\n",
        "    self.linear2 = nn.Linear(1024, 512)\n",
        "    self.linear3 = nn.Linear(512, 128)\n",
        "    self.linear4 = nn.Linear(128, 32)\n",
        "\n",
        "\n",
        "  def forward(self, x):\n",
        "\n",
        "    x = torch.relu(self.linear1(x))\n",
        "    x = torch.relu(self.linear2(x))\n",
        "    x = torch.relu(self.linear3(x))\n",
        "    x = self.linear4(x) # We did not put softmax here because we are using nn.CrossEntropyLoss()\n",
        "                        # nn.CrossEntropyLoss() uses softmax inside it and computes it in a better techniques.\n",
        "\n",
        "    return x"
      ]
    },
    {
      "cell_type": "markdown",
      "metadata": {
        "id": "AhOFMlUlS0fR"
      },
      "source": [
        "### Preparing the mdoel and the optimizer.\n",
        "1. Prepare the device to move the calculations into the GPU.\n",
        "2. Create the model object that you have defined previously."
      ]
    },
    {
      "cell_type": "code",
      "execution_count": null,
      "metadata": {
        "id": "Vg_ZO5lNZ5B-"
      },
      "outputs": [],
      "source": [
        "device = 'cuda' if torch.cuda.is_available() else 'cpu'  # checks if machine supports cuda and if it does, we use that, otherwise cpu\n",
        "input_size = 48 * 48\n",
        "model = SignLangModel(input_size).to(device)"
      ]
    },
    {
      "cell_type": "markdown",
      "metadata": {
        "id": "aPNgijGDTrTe"
      },
      "source": [
        "#### Define whatever you need of variables before the training loop."
      ]
    },
    {
      "cell_type": "code",
      "execution_count": null,
      "metadata": {
        "colab": {
          "base_uri": "https://localhost:8080/"
        },
        "id": "E5wBeaz7Zdar",
        "outputId": "cb7359ea-bfbb-4a20-d608-f7030aca9fa9"
      },
      "outputs": [
        {
          "name": "stdout",
          "output_type": "stream",
          "text": [
            "Using device cuda\n"
          ]
        }
      ],
      "source": [
        "num_epochs = 15\n",
        "lr = 1e-3\n",
        "\n",
        "train_losses = []\n",
        "val_losses = []\n",
        "\n",
        "optimizer = Adam(model.parameters(), lr=lr) # Adam is an optimizer (i.e. GD, SGD)\n",
        "criterion = nn.CrossEntropyLoss()  # multi-class loss.\n",
        "\n",
        "print(f'Using device {device}')"
      ]
    },
    {
      "cell_type": "markdown",
      "metadata": {
        "id": "iZtw-DUdTx-7"
      },
      "source": [
        "#### Train the model and make sure to store the losses of training and validation sets somewhere for later.\n",
        "\n",
        "1. Create one loop for learninig from the training set.\n",
        "2. Wrap the training loop by a loop for multiple iterations.\n",
        "3. After the training loop, add a loop specified for the validaiton set.\n",
        "4. Compute the accuracy of your model for each iteration."
      ]
    },
    {
      "cell_type": "code",
      "execution_count": null,
      "metadata": {
        "colab": {
          "base_uri": "https://localhost:8080/"
        },
        "id": "mVZ6QIbIZb0A",
        "outputId": "0271636f-0878-4299-ae8b-1d04643108fe"
      },
      "outputs": [
        {
          "name": "stdout",
          "output_type": "stream",
          "text": [
            "Epoch: 0, train_loss=3.05092108702637, val_loss=2.6492521076484703. labelled 2212/10810 correctly (20.46253469010176% accuracy)\n",
            "Epoch: 1, train_loss=2.320836473893644, val_loss=2.0675973364647398. labelled 3772/10810 correctly (34.8936170212766% accuracy)\n",
            "Epoch: 2, train_loss=1.831420172583911, val_loss=1.7438962512717657. labelled 4899/10810 correctly (45.31914893617021% accuracy)\n",
            "Epoch: 3, train_loss=1.5080870696294566, val_loss=1.3278123619157225. labelled 6288/10810 correctly (58.168362627197034% accuracy)\n",
            "Epoch: 4, train_loss=1.3116913361791882, val_loss=1.166767961442967. labelled 6867/10810 correctly (63.524514338575386% accuracy)\n",
            "Epoch: 5, train_loss=1.1565451598023504, val_loss=1.129169050242259. labelled 6927/10810 correctly (64.0795559666975% accuracy)\n",
            "Epoch: 6, train_loss=1.0103762007633057, val_loss=0.9950246451189957. labelled 7403/10810 correctly (68.48288621646623% accuracy)\n",
            "Epoch: 7, train_loss=0.9020416184378618, val_loss=0.8954819547148571. labelled 7772/10810 correctly (71.8963922294172% accuracy)\n",
            "Epoch: 8, train_loss=0.8418273535902167, val_loss=0.8718368312697186. labelled 7894/10810 correctly (73.02497687326549% accuracy)\n",
            "Epoch: 9, train_loss=0.7557745047804303, val_loss=0.8364703387159864. labelled 8017/10810 correctly (74.16281221091582% accuracy)\n",
            "Epoch: 10, train_loss=0.692437820203921, val_loss=0.7489580910807953. labelled 8372/10810 correctly (77.4468085106383% accuracy)\n",
            "Epoch: 11, train_loss=0.6565090556152323, val_loss=0.7146218783760601. labelled 8570/10810 correctly (79.27844588344126% accuracy)\n",
            "Epoch: 12, train_loss=0.6201860564660815, val_loss=0.6298017942276848. labelled 8802/10810 correctly (81.42460684551341% accuracy)\n",
            "Epoch: 13, train_loss=0.5690347877361858, val_loss=0.601494781988622. labelled 8969/10810 correctly (82.96947271045329% accuracy)\n",
            "Epoch: 14, train_loss=0.5385470255089693, val_loss=0.5669169553554687. labelled 9065/10810 correctly (83.85753931544866% accuracy)\n",
            "Training complete on device cuda.\n",
            "CPU times: user 5min 52s, sys: 19.1 s, total: 6min 12s\n",
            "Wall time: 6min 15s\n"
          ]
        }
      ],
      "source": [
        "%%time\n",
        "for epoch_no in range(num_epochs):\n",
        "\n",
        "  model.train()  # convert to train model. This turns out train-specific layers in the model (if you dont know about them, an example of them is dropout. more on this later)\n",
        "\n",
        "  epoch_weighted_loss = 0\n",
        "\n",
        "  for batch_X, batch_y in train_loader:\n",
        "\n",
        "    # We need to flatten the input because it is a 2D array (image) not a linear.\n",
        "    batch_X = batch_X.view(-1, 48 * 48)\n",
        "\n",
        "    # Move everything to the device.\n",
        "    batch_X = batch_X.to(device)\n",
        "    batch_y = batch_y.to(device)\n",
        "\n",
        "    # predicite over X.\n",
        "    batch_y_probs = model(batch_X)  # outputs [N, 10] where each [:, 10] is probabilities for class (0-9)\n",
        "\n",
        "    # Compute the loss.\n",
        "    loss = criterion(batch_y_probs, batch_y)\n",
        "\n",
        "    # Reset the gradient.\n",
        "    optimizer.zero_grad()\n",
        "\n",
        "    # Compute the gradient.\n",
        "    loss.backward()\n",
        "\n",
        "    # Update the parameters.\n",
        "    optimizer.step()\n",
        "\n",
        "    # Store the loss.\n",
        "    epoch_weighted_loss += len(batch_y) * loss.item()\n",
        "\n",
        "  epoch_loss = epoch_weighted_loss/len(train_loader.dataset)\n",
        "\n",
        "  train_losses.append(epoch_loss)\n",
        "\n",
        "\n",
        "  # validation time\n",
        "\n",
        "  model.eval()  # take model to evaluation mode. turn off train-only layers\n",
        "  correctly_labelled = 0 # To count the accuracy.\n",
        "\n",
        "  with torch.no_grad(): # To stop calculating the gradient since we do not need it here.\n",
        "\n",
        "    val_epoch_weighted_loss = 0\n",
        "\n",
        "    for val_batch_X, val_batch_y in val_loader:\n",
        "\n",
        "        val_batch_X = val_batch_X.view(-1, 48 * 48)\n",
        "\n",
        "        val_batch_X = val_batch_X.to(device)\n",
        "        val_batch_y = val_batch_y.to(device)\n",
        "\n",
        "        # Predict on val_X\n",
        "        val_batch_y_probs = model(val_batch_X)\n",
        "\n",
        "        loss = criterion(val_batch_y_probs, val_batch_y)\n",
        "\n",
        "        val_epoch_weighted_loss += len(val_batch_y) * loss.item()\n",
        "\n",
        "        # convert probailities to labels by picking the label (index) with the highest prob.\n",
        "        val_batch_y_pred = val_batch_y_probs.argmax(dim=1)\n",
        "\n",
        "        correctly_labelled += (val_batch_y_pred == val_batch_y).sum().item()  # item converts tensor to float/int/list\n",
        "\n",
        "  val_epoch_loss = val_epoch_weighted_loss/len(val_loader.dataset)\n",
        "  val_losses.append(val_epoch_loss)\n",
        "\n",
        "  print(f'Epoch: {epoch_no}, train_loss={epoch_loss}, val_loss={val_epoch_loss}. labelled {correctly_labelled}/{len(val_loader.dataset)} correctly ({correctly_labelled/len(val_loader.dataset)*100}% accuracy)')\n",
        "\n",
        "print(f'Training complete on device {device}.')"
      ]
    },
    {
      "cell_type": "markdown",
      "metadata": {
        "id": "8KpYqMcEU0r1"
      },
      "source": [
        "#### Plot the training and validation losses.\n",
        "*HINT: Use the result of the plot to improve your model.*"
      ]
    },
    {
      "cell_type": "code",
      "execution_count": null,
      "metadata": {
        "colab": {
          "base_uri": "https://localhost:8080/",
          "height": 449
        },
        "id": "2cMN5vKga0Fk",
        "outputId": "48496cf8-8579-4196-d0bc-702f9bf79bf6"
      },
      "outputs": [
        {
          "data": {
            "image/png": "[encoded data removed]",
            "text/plain": [
              "<Figure size 640x480 with 1 Axes>"
            ]
          },
          "metadata": {},
          "output_type": "display_data"
        }
      ],
      "source": [
        "plt.plot(train_losses, label='Train Loss')\n",
        "plt.plot(val_losses  , label='Val Loss')\n",
        "\n",
        "plt.ylabel('Loss (CCE)')\n",
        "plt.xlabel('Epoch')\n",
        "\n",
        "plt.legend()\n",
        "plt.show()"
      ]
    },
    {
      "cell_type": "markdown",
      "metadata": {},
      "source": [
        "## Play with the model to reach a better accuarcy."
      ]
    }
  ],
  "metadata": {
    "colab": {
      "collapsed_sections": [
        "qWb17ZPBAWvP"
      ],
      "provenance": []
    },
    "kernelspec": {
      "display_name": "Python 3",
      "name": "python3"
    },
    "language_info": {
      "name": "python"
    }
  },
  "nbformat": 4,
  "nbformat_minor": 0
}
